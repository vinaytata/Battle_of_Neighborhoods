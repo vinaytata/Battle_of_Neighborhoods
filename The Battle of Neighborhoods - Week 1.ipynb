{
    "cells": [
        {
            "cell_type": "markdown",
            "metadata": {},
            "source": "# Capstone Project \u2013 The Battle of Neighborhoods"
        },
        {
            "cell_type": "markdown",
            "metadata": {},
            "source": "## Introduction/Business Problem:\nBangalore, officially known as Bengaluru, is the capital of the Indian state of Karnataka. It has a population of about 10 million and a metropolitan population of about 8.52 million, making it the third most populous city and fifth most populous urban agglomeration in India. Located in southern India, Bangalore is known for its pleasant climate throughout the year. It is also called the Silicon valley of India.\nIn my present project, I would like to explore the City of Bangalore and find the neighborhood for the people who are trying relocate and also a suitable place for staying based on the amenities around the location.\n"
        },
        {
            "cell_type": "markdown",
            "metadata": {},
            "source": "## Data Section:\nIn my present project of exploring Bangalore, am using a python library called pgeocode (https://github.com/symerio/pgeocode) which is a high-performance off-line querying of GPS coordinates, region name and municipality name from postal codes. Distances between postal codes as well as general distance queries are also supported. GeoNames database includes postal codes for 83 countries. I used ' index postal_codes' function which creates a data frame of unique postal codes of a given country. \nThe data frame consists of following columns:\n\n- country code: iso country code, 2 characters\n- postal code: postal code\n- place name: place name (Ex: District, City etc)\n- state_name: 1. order subdivision (state)\n- state_code: 1. order subdivision (state)\n- county_name: 2. order subdivision (county/province)\n- county_code: 2. order subdivision (county/province)\n- community_name: 3. order subdivision (community)\n- community_code: 3. order subdivision (community)\n- latitude: estimated latitude (wgs84)\n- longitude: estimated longitude (wgs84)\n- accuracy: accuracy of lat/lng from 1=estimated to 6=centroid\n\nI will be using above data to find the suitable location preferences and their respective facilities available.\n\nAlso, I will be using Foursquare Location data to get the most common venues of given area in Bengaluru and  use python folium library to visualize geographic details of Bengaluru and its places.\n"
        },
        {
            "cell_type": "code",
            "execution_count": null,
            "metadata": {},
            "outputs": [],
            "source": ""
        }
    ],
    "metadata": {
        "kernelspec": {
            "display_name": "Python 3.6",
            "language": "python",
            "name": "python3"
        },
        "language_info": {
            "codemirror_mode": {
                "name": "ipython",
                "version": 3
            },
            "file_extension": ".py",
            "mimetype": "text/x-python",
            "name": "python",
            "nbconvert_exporter": "python",
            "pygments_lexer": "ipython3",
            "version": "3.6.9"
        }
    },
    "nbformat": 4,
    "nbformat_minor": 1
}